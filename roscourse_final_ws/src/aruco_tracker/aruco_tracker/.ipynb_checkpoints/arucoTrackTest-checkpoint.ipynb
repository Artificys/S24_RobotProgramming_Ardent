{
 "cells": [
  {
   "cell_type": "code",
   "execution_count": 2,
   "id": "58614fff-e767-4229-8dbb-00ff7f742a3a",
   "metadata": {},
   "outputs": [],
   "source": [
    "import cv2\n",
    "import numpy as np\n",
    "import math"
   ]
  },
  {
   "cell_type": "code",
   "execution_count": 14,
   "id": "4d83c7d1-3f81-4f37-a0df-6ff04c7e756d",
   "metadata": {},
   "outputs": [
    {
     "name": "stdout",
     "output_type": "stream",
     "text": [
      "17\n"
     ]
    }
   ],
   "source": [
    "frame = cv2.imread(\"singlemarkersoriginal.jpg\")\n",
    "\n",
    "cameraMatrix = np.array([ [705.917809, 0.000000, 331.476932], \n",
    "                          [0.000000, 655.919479, 227.721680],\n",
    "                          [0.000000, 0.000000, 1.000000] ])\n",
    "                          \n",
    "markerSize = 0.050\n",
    "                          \n",
    "arucoDict = cv2.aruco.Dictionary_get(cv2.aruco.DICT_4X4_1000)\n",
    "arucoParams = cv2.aruco.DetectorParameters_create()\n",
    "\n",
    "(corners, IDs, rejected) = cv2.aruco.detectMarkers(frame, arucoDict, parameters=arucoParams)\n",
    "\n",
    "if len(corners) > 0:\n",
    "    ID = np.min(IDs)\n",
    "    points3D = markerSize/2 * np.array([ [-1, -1, 0], [1, -1, 0], [1, 1, 0], [-1, 1, 0],  ])\n",
    "        \n",
    "    ret, rvec, tvec = cv2.solvePnP(points3D, corners[np.argmin(IDs)], cameraMatrix, None)\n",
    "\n",
    "print(int(ID))"
   ]
  },
  {
   "cell_type": "code",
   "execution_count": 5,
   "id": "e9d083fc-fdad-46ae-8fe3-bdecaac324bf",
   "metadata": {},
   "outputs": [],
   "source": [
    "mtx = np.array([ [705.917809, 0.000000, 331.476932], \n",
    "                 [0.000000, 655.919479, 227.721680],\n",
    "                 [0.000000, 0.000000, 1.000000] ])"
   ]
  },
  {
   "cell_type": "code",
   "execution_count": 8,
   "id": "06fcd8d4-f490-450a-8abd-b00ccba88412",
   "metadata": {},
   "outputs": [
    {
     "name": "stdout",
     "output_type": "stream",
     "text": [
      "(0.0672042655833245, 0.16533875799493103, 0.18083557991740754, 0.9671841473204752)\n"
     ]
    }
   ],
   "source": [
    "def quat_from_rpy(roll, pitch, yaw):\n",
    "\n",
    "    cy = math.cos(yaw*0.5)\n",
    "    sy = math.sin(yaw*0.5)\n",
    "    cp = math.cos(pitch*0.5)\n",
    "    sp = math.sin(pitch*0.5)\n",
    "    cr = math.cos(roll*0.5)\n",
    "    sr = math.sin(roll*0.5)\n",
    "\n",
    "    qw = cr * cp * cy + sr * sp * sy\n",
    "    qx = sr * cp * cy - cr * sp * sy\n",
    "    qy = cr * sp * cy + sr * cp * sy\n",
    "    qz = cr * cp * sy - sr * sp * cy\n",
    "\n",
    "    return qx, qy, qz, qw\n",
    "\n",
    "def quat_from_rpy(roll, pitch, yaw):\n",
    "\n",
    "\n",
    "    cy = math.cos(yaw*0.5)\n",
    "    sy = math.sin(yaw*0.5)\n",
    "    cp = math.cos(pitch*0.5)\n",
    "    sp = math.sin(pitch*0.5)\n",
    "    cr = math.cos(roll*0.5)\n",
    "    sr = math.sin(roll*0.5)\n",
    "\n",
    "    qw = cr * cp * cy + sr * sp * sy\n",
    "    qx = sr * cp * cy - cr * sp * sy\n",
    "    qy = cr * sp * cy + sr * cp * sy\n",
    "    qz = cr * cp * sy - sr * sp * cy\n",
    "\n",
    "    return qx, qy, qz, qw\n",
    "    \n",
    "rvec = np.array([0.2, 0.3, 0.4])\n",
    "\n",
    "c = np.cos(rvec*0.5)\n",
    "s = np.cos(rvec(0.5)\n",
    "\n",
    "qw = cr * cp * cy + sr * sp * sy\n",
    "qx = sr * cp * cy - cr * sp * sy\n",
    "qy = cr * sp * cy + sr * cp * sy\n",
    "qz = cr * cp * sy - sr * sp * cy\n",
    "\n",
    "print(quat_from_rpy(rvec[0], rvec[1], rvec[2]))\n",
    "\n",
    "\n"
   ]
  },
  {
   "cell_type": "code",
   "execution_count": null,
   "id": "22d11896-8406-4a9f-8d0c-7299ea69b4fc",
   "metadata": {},
   "outputs": [],
   "source": []
  }
 ],
 "metadata": {
  "kernelspec": {
   "display_name": "Python 3 (ipykernel)",
   "language": "python",
   "name": "python3"
  },
  "language_info": {
   "codemirror_mode": {
    "name": "ipython",
    "version": 3
   },
   "file_extension": ".py",
   "mimetype": "text/x-python",
   "name": "python",
   "nbconvert_exporter": "python",
   "pygments_lexer": "ipython3",
   "version": "3.8.10"
  }
 },
 "nbformat": 4,
 "nbformat_minor": 5
}
